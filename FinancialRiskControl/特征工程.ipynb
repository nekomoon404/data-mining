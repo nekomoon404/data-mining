{
 "cells": [
  {
   "cell_type": "code",
   "execution_count": 1,
   "metadata": {},
   "outputs": [],
   "source": [
    "import pandas as pd\n",
    "import numpy as np\n",
    "import matplotlib.pyplot as plt\n",
    "import seaborn as sns\n",
    "import datetime\n",
    "from tqdm import tqdm\n",
    "from sklearn.preprocessing import LabelEncoder\n",
    "from sklearn.feature_selection import SelectKBest\n",
    "from sklearn.feature_selection import chi2\n",
    "from sklearn.preprocessing import MinMaxScaler\n",
    "import xgboost as xgb\n",
    "#import lightgbm as lgb\n",
    "#from catboost import CatBoostRegressor\n",
    "import warnings\n",
    "from sklearn.model_selection import StratifiedKFold, KFold\n",
    "from sklearn.metrics import accuracy_score, f1_score, roc_auc_score, log_loss\n",
    "warnings.filterwarnings('ignore')"
   ]
  },
  {
   "cell_type": "code",
   "execution_count": 2,
   "metadata": {},
   "outputs": [],
   "source": [
    "data_train = pd.read_csv(r\"F:\\CodeApplication\\Jupyter\\Datawhale\\train.csv\")"
   ]
  },
  {
   "cell_type": "code",
   "execution_count": 3,
   "metadata": {},
   "outputs": [],
   "source": [
    "data_test_a = pd.read_csv(r\"F:\\CodeApplication\\Jupyter\\Datawhale\\testA.csv\")"
   ]
  },
  {
   "cell_type": "markdown",
   "metadata": {},
   "source": [
    "### 1.删除EDA中已发现的不需要的特征"
   ]
  },
  {
   "cell_type": "code",
   "execution_count": 4,
   "metadata": {},
   "outputs": [],
   "source": [
    "#删除训练集中的重复字段n2.1，测试集中的重复字段n2.1，n2.2，n2.3，以及方差为0的变量policyCode，这里先不要删除id\n",
    "data_train = data_train.drop(['n2.1','policyCode'], axis=1)\n",
    "data_test_a = data_test_a.drop(['n2.1','n2.2','n2.3','policyCode'],axis=1)"
   ]
  },
  {
   "cell_type": "code",
   "execution_count": 5,
   "metadata": {},
   "outputs": [
    {
     "name": "stdout",
     "output_type": "stream",
     "text": [
      "(800000, 45)\n",
      "(200000, 44)\n"
     ]
    }
   ],
   "source": [
    "print(data_train.shape)\n",
    "print(data_test_a.shape)"
   ]
  },
  {
   "cell_type": "markdown",
   "metadata": {},
   "source": [
    "### 2.填补缺失值\n",
    "\n",
    "填补缺失值常用的方法：\n",
    "1. 把所有缺失值替换为指定的值，如0：\n",
    "   \n",
    "   `data_train=data_train.fillna(0)`\n",
    "2. 纵向用缺失值上面的值替换缺失值，可设置最多只填充几个连续的缺失值：`data_train=data_train.fillna(axis=0,method='bfill',limit=2)`\n",
    "\n",
    "3. 也可以使用sklearn中的`sklearn.impute.SimpleImputer`来填补缺失值\n",
    "\n",
    "4. 使用随机森林回归填补缺失值（菜菜02-3.2）"
   ]
  },
  {
   "cell_type": "code",
   "execution_count": 6,
   "metadata": {},
   "outputs": [],
   "source": [
    "#划分出数据中的对象特征和数值特征\n",
    "numerical_fea = list(data_train.select_dtypes(exclude=['object']).columns) \n",
    "category_fea = list(filter(lambda x: x not in numerical_fea,list(data_train.columns))) \n",
    "label = 'isDefault'\n",
    "numerical_fea.remove(label)"
   ]
  },
  {
   "cell_type": "code",
   "execution_count": 7,
   "metadata": {},
   "outputs": [
    {
     "data": {
      "text/plain": [
       "id                        0\n",
       "loanAmnt                  0\n",
       "term                      0\n",
       "interestRate              0\n",
       "installment               0\n",
       "grade                     0\n",
       "subGrade                  0\n",
       "employmentTitle           1\n",
       "employmentLength      46799\n",
       "homeOwnership             0\n",
       "annualIncome              0\n",
       "verificationStatus        0\n",
       "issueDate                 0\n",
       "isDefault                 0\n",
       "purpose                   0\n",
       "postCode                  1\n",
       "regionCode                0\n",
       "dti                     239\n",
       "delinquency_2years        0\n",
       "ficoRangeLow              0\n",
       "ficoRangeHigh             0\n",
       "openAcc                   0\n",
       "pubRec                    0\n",
       "pubRecBankruptcies      405\n",
       "revolBal                  0\n",
       "revolUtil               531\n",
       "totalAcc                  0\n",
       "initialListStatus         0\n",
       "applicationType           0\n",
       "earliesCreditLine         0\n",
       "title                     1\n",
       "n0                    40270\n",
       "n1                    40270\n",
       "n2                    40270\n",
       "n4                    33239\n",
       "n5                    40270\n",
       "n6                    40270\n",
       "n7                    40270\n",
       "n8                    40271\n",
       "n9                    40270\n",
       "n10                   33239\n",
       "n11                   69752\n",
       "n12                   40270\n",
       "n13                   40270\n",
       "n14                   40270\n",
       "dtype: int64"
      ]
     },
     "execution_count": 7,
     "metadata": {},
     "output_type": "execute_result"
    }
   ],
   "source": [
    "#1.查看缺失值情况\n",
    "data_train.isnull().sum()"
   ]
  },
  {
   "cell_type": "code",
   "execution_count": 8,
   "metadata": {},
   "outputs": [],
   "source": [
    "#按照平均数填充数值型特征\n",
    "data_train[numerical_fea] = data_train[numerical_fea].fillna(data_train[numerical_fea].median())\n",
    "data_test_a[numerical_fea] = data_test_a[numerical_fea].fillna(data_test_a[numerical_fea].median())"
   ]
  },
  {
   "cell_type": "code",
   "execution_count": 9,
   "metadata": {},
   "outputs": [],
   "source": [
    "#按照众数填充类别型数据\n",
    "data_train[category_fea] = data_train[category_fea].fillna(data_train[category_fea].median())\n",
    "data_test_a[category_fea] = data_test_a[category_fea].fillna(data_test_a[category_fea].median())"
   ]
  },
  {
   "cell_type": "code",
   "execution_count": 10,
   "metadata": {},
   "outputs": [
    {
     "data": {
      "text/plain": [
       "id                        0\n",
       "loanAmnt                  0\n",
       "term                      0\n",
       "interestRate              0\n",
       "installment               0\n",
       "grade                     0\n",
       "subGrade                  0\n",
       "employmentTitle           0\n",
       "employmentLength      46799\n",
       "homeOwnership             0\n",
       "annualIncome              0\n",
       "verificationStatus        0\n",
       "issueDate                 0\n",
       "isDefault                 0\n",
       "purpose                   0\n",
       "postCode                  0\n",
       "regionCode                0\n",
       "dti                       0\n",
       "delinquency_2years        0\n",
       "ficoRangeLow              0\n",
       "ficoRangeHigh             0\n",
       "openAcc                   0\n",
       "pubRec                    0\n",
       "pubRecBankruptcies        0\n",
       "revolBal                  0\n",
       "revolUtil                 0\n",
       "totalAcc                  0\n",
       "initialListStatus         0\n",
       "applicationType           0\n",
       "earliesCreditLine         0\n",
       "title                     0\n",
       "n0                        0\n",
       "n1                        0\n",
       "n2                        0\n",
       "n4                        0\n",
       "n5                        0\n",
       "n6                        0\n",
       "n7                        0\n",
       "n8                        0\n",
       "n9                        0\n",
       "n10                       0\n",
       "n11                       0\n",
       "n12                       0\n",
       "n13                       0\n",
       "n14                       0\n",
       "dtype: int64"
      ]
     },
     "execution_count": 10,
     "metadata": {},
     "output_type": "execute_result"
    }
   ],
   "source": [
    "data_train.isnull().sum()     #还差一个employmentLength没有填充"
   ]
  },
  {
   "cell_type": "markdown",
   "metadata": {},
   "source": [
    "### 3.时间格式处理\n",
    "\n",
    "baseline中是将年-月-日直接转化为天数，是否有其他转换方式？"
   ]
  },
  {
   "cell_type": "code",
   "execution_count": 11,
   "metadata": {},
   "outputs": [],
   "source": [
    "#转化时间格式\n",
    "for data in [data_train, data_test_a]:\n",
    "    data['issueDate'] = pd.to_datetime(data['issueDate'], format = '%Y-%m-%d')\n",
    "    startdate = datetime.datetime.strptime('2007-06-01', '%Y-%m-%d')\n",
    "    #构造时间特征\n",
    "    data['issueDateDT'] = data['issueDate'].apply(lambda x: x - startdate).dt.days"
   ]
  },
  {
   "cell_type": "code",
   "execution_count": 12,
   "metadata": {},
   "outputs": [],
   "source": [
    "#删除原来的'issueDate'特征\n",
    "data_train.drop('issueDate', axis=1, inplace=True)\n",
    "data_test_a.drop('issueDate', axis=1, inplace=True)"
   ]
  },
  {
   "cell_type": "markdown",
   "metadata": {},
   "source": [
    "### 4.将对象类型特征转换到数值"
   ]
  },
  {
   "cell_type": "code",
   "execution_count": 13,
   "metadata": {},
   "outputs": [],
   "source": [
    "data_train_ = data_train.copy()\n",
    "data_test_a_ = data_test_a.copy()"
   ]
  },
  {
   "cell_type": "markdown",
   "metadata": {},
   "source": [
    "**4.1.处理特征 employmentLength -- 就业年限（年）**"
   ]
  },
  {
   "cell_type": "code",
   "execution_count": 14,
   "metadata": {},
   "outputs": [
    {
     "data": {
      "text/plain": [
       "1 year        52489\n",
       "10+ years    262753\n",
       "2 years       72358\n",
       "3 years       64152\n",
       "4 years       47985\n",
       "5 years       50102\n",
       "6 years       37254\n",
       "7 years       35407\n",
       "8 years       36192\n",
       "9 years       30272\n",
       "< 1 year      64237\n",
       "NaN           46799\n",
       "Name: employmentLength, dtype: int64"
      ]
     },
     "execution_count": 14,
     "metadata": {},
     "output_type": "execute_result"
    }
   ],
   "source": [
    "data_train_['employmentLength'].value_counts(dropna = False).sort_index()"
   ]
  },
  {
   "cell_type": "code",
   "execution_count": 15,
   "metadata": {},
   "outputs": [],
   "source": [
    "#data_train_[['employmentLength','isDefault']].groupby('employmentLength').apply(lambda x:x.sum()/(data_train_['isDefault']==1).sum())"
   ]
  },
  {
   "cell_type": "code",
   "execution_count": 16,
   "metadata": {},
   "outputs": [
    {
     "data": {
      "image/png": "[encoded data removed]",
      "text/plain": [
       "<Figure size 1080x576 with 2 Axes>"
      ]
     },
     "metadata": {
      "needs_background": "light"
     },
     "output_type": "display_data"
    }
   ],
   "source": [
    "data_train_['employmentLength'].fillna('-1 year', inplace=True)\n",
    "data_test_a_['employmentLength'].fillna('-1 year', inplace=True)\n",
    "\n",
    "train_default = data_train_[data_train_['isDefault'] == 1]   # 违约的数据\n",
    "train_no_default = data_train_[data_train_['isDefault'] == 0]  # 未违约的数据\n",
    "\n",
    "fig,((ax1,ax2)) = plt.subplots(2, 1, figsize=(15,8))  # 创建子画布\n",
    "def draw_feat_bar(data, feat, ax, title):\n",
    "    \"\"\"\n",
    "    绘制数据分布在指定data下的结果,以比例显示\n",
    "    \"\"\"\n",
    "    (data.groupby(feat)[feat].count()/len(data)).plot(kind='barh', ax=ax,title=title)\n",
    "\n",
    "# df_train_default.groupby('grade')['grade'].count().plot(kind='barh',ax=ax1,title='Count of grade default')\n",
    "draw_feat_bar(train_default, 'employmentLength', ax1,'Count of employmentLength default')\n",
    "draw_feat_bar(train_no_default, 'employmentLength', ax2, 'Count of employmentLength no default')"
   ]
  },
  {
   "cell_type": "markdown",
   "metadata": {},
   "source": [
    "这里可以将'employmentLength'的缺失值用平均数来填充，但缺失样本的违约率较高，可考虑单独分类，如-1"
   ]
  },
  {
   "cell_type": "code",
   "execution_count": 17,
   "metadata": {},
   "outputs": [],
   "source": [
    "def employmentLength_to_int(s):\n",
    "    if pd.isnull(s):\n",
    "        return s\n",
    "    else:\n",
    "        return np.int8(s.split()[0])\n",
    "    \n",
    "for data in [data_train_, data_test_a_]: \n",
    "    data['employmentLength'].replace(to_replace='10+ years', value='10 years', inplace=True) \n",
    "    data['employmentLength'].replace('< 1 year', '0 years', inplace=True)    #小于1 year的用0来代替\n",
    "    \n",
    "    data['employmentLength'] = data['employmentLength'].apply(employmentLength_to_int) "
   ]
  },
  {
   "cell_type": "code",
   "execution_count": 18,
   "metadata": {},
   "outputs": [
    {
     "data": {
      "text/plain": [
       "-1      46799\n",
       " 0      64237\n",
       " 1      52489\n",
       " 2      72358\n",
       " 3      64152\n",
       " 4      47985\n",
       " 5      50102\n",
       " 6      37254\n",
       " 7      35407\n",
       " 8      36192\n",
       " 9      30272\n",
       " 10    262753\n",
       "Name: employmentLength, dtype: int64"
      ]
     },
     "execution_count": 18,
     "metadata": {},
     "output_type": "execute_result"
    }
   ],
   "source": [
    "data_train_['employmentLength'].value_counts(dropna = False).sort_index()"
   ]
  },
  {
   "cell_type": "code",
   "execution_count": 19,
   "metadata": {},
   "outputs": [
    {
     "data": {
      "text/plain": [
       "-1     11742\n",
       " 0     15989\n",
       " 1     13182\n",
       " 2     18207\n",
       " 3     16011\n",
       " 4     11833\n",
       " 5     12543\n",
       " 6      9328\n",
       " 7      8823\n",
       " 8      8976\n",
       " 9      7594\n",
       " 10    65772\n",
       "Name: employmentLength, dtype: int64"
      ]
     },
     "execution_count": 19,
     "metadata": {},
     "output_type": "execute_result"
    }
   ],
   "source": [
    "data_test_a_['employmentLength'].value_counts(dropna = False).sort_index()"
   ]
  },
  {
   "cell_type": "code",
   "execution_count": 20,
   "metadata": {},
   "outputs": [],
   "source": [
    "#用平均值填补'employmentLength'的缺失值\n",
    "#data_train_['employmentLength'] = data_train_['employmentLength'].fillna(data_train_['employmentLength'].median())\n",
    "#data_test_a_['employmentLength'] = data_test_a_['employmentLength'].fillna(data_test_a_['employmentLength'].median())"
   ]
  },
  {
   "cell_type": "code",
   "execution_count": 21,
   "metadata": {},
   "outputs": [],
   "source": [
    "#data_train_['employmentLength'].value_counts(dropna = False).sort_index()"
   ]
  },
  {
   "cell_type": "markdown",
   "metadata": {},
   "source": [
    "**4.2.对earliesCreditline - 借款人最早报告的信用额度开立的月份  进行预处理**"
   ]
  },
  {
   "cell_type": "code",
   "execution_count": 22,
   "metadata": {},
   "outputs": [
    {
     "data": {
      "text/plain": [
       "590906    Jul-2006\n",
       "410661    Nov-2005\n",
       "749215    Sep-2000\n",
       "492380    May-1985\n",
       "326784    Sep-1994\n",
       "Name: earliesCreditLine, dtype: object"
      ]
     },
     "execution_count": 22,
     "metadata": {},
     "output_type": "execute_result"
    }
   ],
   "source": [
    "data_train_['earliesCreditLine'].sample(5)    #随机抽出5个样本"
   ]
  },
  {
   "cell_type": "code",
   "execution_count": 23,
   "metadata": {},
   "outputs": [],
   "source": [
    "for data in [data_train_, data_test_a_]:\n",
    "    data['earliesCreditLine'] = data['earliesCreditLine'].apply(lambda s : int(s[-4:]))    #只要后四位，即只管年份？"
   ]
  },
  {
   "cell_type": "code",
   "execution_count": 24,
   "metadata": {},
   "outputs": [
    {
     "data": {
      "text/plain": [
       "1944       1\n",
       "1946       2\n",
       "1950       5\n",
       "1951       7\n",
       "1952       6\n",
       "        ... \n",
       "2011    9792\n",
       "2012    6628\n",
       "2013    3525\n",
       "2014    1475\n",
       "2015     201\n",
       "Name: earliesCreditLine, Length: 68, dtype: int64"
      ]
     },
     "execution_count": 24,
     "metadata": {},
     "output_type": "execute_result"
    }
   ],
   "source": [
    "data_train_['earliesCreditLine'].value_counts(dropna = False).sort_index()"
   ]
  },
  {
   "cell_type": "code",
   "execution_count": 57,
   "metadata": {},
   "outputs": [
    {
     "data": {
      "text/plain": [
       "1944       1\n",
       "1945       1\n",
       "1949       1\n",
       "1950       2\n",
       "1951       2\n",
       "        ... \n",
       "2011    2490\n",
       "2012    1676\n",
       "2013     850\n",
       "2014     388\n",
       "2015      50\n",
       "Name: earliesCreditLine, Length: 69, dtype: int64"
      ]
     },
     "execution_count": 57,
     "metadata": {},
     "output_type": "execute_result"
    }
   ],
   "source": [
    "data_test_a_['earliesCreditLine'].value_counts(dropna = False).sort_index()"
   ]
  },
  {
   "cell_type": "markdown",
   "metadata": {},
   "source": [
    "**4.3 对等级Grade，和Subgrade进行编码**\n",
    "\n",
    "这两个特征都有明显的优先级关系，且随着grade从A至D违约率越高，subGrade从1到5违约率越高，可视为有序变量，用OridnalEncoder处理。但是如何体现他们之间的联系？或者只取subGrade，不取grade？"
   ]
  },
  {
   "cell_type": "code",
   "execution_count": 25,
   "metadata": {},
   "outputs": [],
   "source": [
    "from sklearn.preprocessing import OrdinalEncoder\n",
    "\n",
    "#OrdinalEncoder().fit(data_train['grade', 'subGrade']).categories_\n",
    "data_train_.loc[:,['grade', 'subGrade']] = OrdinalEncoder().fit_transform(data_train_.loc[:,['grade', 'subGrade']])\n",
    "data_test_a_.loc[:,['grade', 'subGrade']] = OrdinalEncoder().fit_transform(data_test_a_.loc[:,['grade', 'subGrade']])"
   ]
  },
  {
   "cell_type": "code",
   "execution_count": 26,
   "metadata": {},
   "outputs": [
    {
     "data": {
      "text/html": [
       "<div>\n",
       "<style scoped>\n",
       "    .dataframe tbody tr th:only-of-type {\n",
       "        vertical-align: middle;\n",
       "    }\n",
       "\n",
       "    .dataframe tbody tr th {\n",
       "        vertical-align: top;\n",
       "    }\n",
       "\n",
       "    .dataframe thead th {\n",
       "        text-align: right;\n",
       "    }\n",
       "</style>\n",
       "<table border=\"1\" class=\"dataframe\">\n",
       "  <thead>\n",
       "    <tr style=\"text-align: right;\">\n",
       "      <th></th>\n",
       "      <th>grade</th>\n",
       "      <th>subGrade</th>\n",
       "    </tr>\n",
       "  </thead>\n",
       "  <tbody>\n",
       "    <tr>\n",
       "      <th>0</th>\n",
       "      <td>4.0</td>\n",
       "      <td>21.0</td>\n",
       "    </tr>\n",
       "    <tr>\n",
       "      <th>1</th>\n",
       "      <td>3.0</td>\n",
       "      <td>16.0</td>\n",
       "    </tr>\n",
       "    <tr>\n",
       "      <th>2</th>\n",
       "      <td>3.0</td>\n",
       "      <td>17.0</td>\n",
       "    </tr>\n",
       "    <tr>\n",
       "      <th>3</th>\n",
       "      <td>0.0</td>\n",
       "      <td>3.0</td>\n",
       "    </tr>\n",
       "    <tr>\n",
       "      <th>4</th>\n",
       "      <td>2.0</td>\n",
       "      <td>11.0</td>\n",
       "    </tr>\n",
       "    <tr>\n",
       "      <th>...</th>\n",
       "      <td>...</td>\n",
       "      <td>...</td>\n",
       "    </tr>\n",
       "    <tr>\n",
       "      <th>799995</th>\n",
       "      <td>2.0</td>\n",
       "      <td>13.0</td>\n",
       "    </tr>\n",
       "    <tr>\n",
       "      <th>799996</th>\n",
       "      <td>0.0</td>\n",
       "      <td>3.0</td>\n",
       "    </tr>\n",
       "    <tr>\n",
       "      <th>799997</th>\n",
       "      <td>2.0</td>\n",
       "      <td>12.0</td>\n",
       "    </tr>\n",
       "    <tr>\n",
       "      <th>799998</th>\n",
       "      <td>0.0</td>\n",
       "      <td>3.0</td>\n",
       "    </tr>\n",
       "    <tr>\n",
       "      <th>799999</th>\n",
       "      <td>1.0</td>\n",
       "      <td>7.0</td>\n",
       "    </tr>\n",
       "  </tbody>\n",
       "</table>\n",
       "<p>800000 rows × 2 columns</p>\n",
       "</div>"
      ],
      "text/plain": [
       "        grade  subGrade\n",
       "0         4.0      21.0\n",
       "1         3.0      16.0\n",
       "2         3.0      17.0\n",
       "3         0.0       3.0\n",
       "4         2.0      11.0\n",
       "...       ...       ...\n",
       "799995    2.0      13.0\n",
       "799996    0.0       3.0\n",
       "799997    2.0      12.0\n",
       "799998    0.0       3.0\n",
       "799999    1.0       7.0\n",
       "\n",
       "[800000 rows x 2 columns]"
      ]
     },
     "execution_count": 26,
     "metadata": {},
     "output_type": "execute_result"
    }
   ],
   "source": [
    "data_train_.loc[:,['grade', 'subGrade']]"
   ]
  },
  {
   "cell_type": "markdown",
   "metadata": {},
   "source": [
    "到这里对象类型的特征就处理完了，接下来考虑处理数值类型中的离散变量"
   ]
  },
  {
   "cell_type": "markdown",
   "metadata": {},
   "source": [
    "### 5.类别特征处理"
   ]
  },
  {
   "cell_type": "code",
   "execution_count": 27,
   "metadata": {},
   "outputs": [
    {
     "name": "stdout",
     "output_type": "stream",
     "text": [
      "employmentTitle 类型数： 248683\n",
      "homeOwnership 类型数： 6\n",
      "verificationStatus 类型数： 3\n",
      "purpose 类型数： 14\n",
      "postCode 类型数： 932\n",
      "regionCode 类型数： 51\n",
      "applicationType 类型数： 2\n",
      "initialListStatus 类型数： 2\n",
      "title 类型数： 39644\n"
     ]
    }
   ],
   "source": [
    "#查看各特征的类型数\n",
    "cate_features = ['employmentTitle','homeOwnership', 'verificationStatus', 'purpose', 'postCode', 'regionCode',  'applicationType', 'initialListStatus', 'title'] \n",
    "for f in cate_features: \n",
    "    print(f, '类型数：', data_train_[f].nunique())"
   ]
  },
  {
   "cell_type": "markdown",
   "metadata": {},
   "source": [
    "#### 5.1. 高维类别特征\n",
    "\n",
    "遇到的问题： employmentTitle , title , postCode有这么多类别，该如何处理？\n",
    "\n",
    "baseline中对它们进行了计数聚合，排序，不太理解。\n",
    "\n",
    "```python\n",
    "for f in ['employmentTitle', 'postCode', 'title']:\n",
    "    data[f+'_cnts'] = data.groupby([f])['id'].transform('count')\n",
    "    data[f+'_rank'] = data.groupby([f])['id'].rank(ascending=False).astype(int)    #和上一列完全一样？\n",
    "    del data[f]\n",
    "```"
   ]
  },
  {
   "cell_type": "code",
   "execution_count": 58,
   "metadata": {},
   "outputs": [],
   "source": [
    "data_train_1 = data_train_.copy()\n",
    "data_test_a_1 = data_test_a_.copy()"
   ]
  },
  {
   "cell_type": "code",
   "execution_count": 59,
   "metadata": {},
   "outputs": [],
   "source": [
    "#data = pd.concat([data_train_1, data_test_a_1], axis=0, ignore_index=True)"
   ]
  },
  {
   "cell_type": "code",
   "execution_count": 60,
   "metadata": {},
   "outputs": [
    {
     "name": "stderr",
     "output_type": "stream",
     "text": [
      "100%|██████████| 3/3 [00:04<00:00,  1.61s/it]"
     ]
    },
    {
     "name": "stdout",
     "output_type": "stream",
     "text": [
      "Label Encoding 完成\n"
     ]
    },
    {
     "name": "stderr",
     "output_type": "stream",
     "text": [
      "\n"
     ]
    }
   ],
   "source": [
    "# 高维类别特征需要进行转换\n",
    "for col in tqdm(['employmentTitle', 'postCode', 'title']):\n",
    "    le = LabelEncoder()   #labelEncoder可以将标签分配一个0-n_classes-1之间的编码\n",
    "    #但这样做就是认为变量之间是有序或者有距的了，是否可以？\n",
    "    \n",
    "    le.fit(list(data_train_1[col].astype(str).values) + list(data_test_a_1[col].astype(str).values))\n",
    "    data_train_1[col] = le.transform(list(data_train_1[col].astype(str).values))\n",
    "    data_test_a_1[col] = le.transform(list(data_test_a_1[col].astype(str).values))\n",
    "print('Label Encoding 完成')"
   ]
  },
  {
   "cell_type": "markdown",
   "metadata": {},
   "source": [
    "#### 5.2. 类型数较少的变量用OneHot\n",
    "\n",
    "类型数在2之上，又不是高维稀疏的，且纯分类特征，可视为名义变量，用OneHot编码处理。\n",
    "\n",
    "其中regiocode有51个类别，会不会有点多，需不需要进一步处理？"
   ]
  },
  {
   "cell_type": "code",
   "execution_count": 61,
   "metadata": {},
   "outputs": [],
   "source": [
    "#for data in [data_train_1, data_test_a_1]:\n",
    "data_train_1 = pd.get_dummies(data_train_1, columns = ['verificationStatus', 'initialListStatus','applicationType', 'purpose', 'regionCode'], drop_first = True)\n",
    "data_test_a_1 = pd.get_dummies(data_test_a_1, columns = ['verificationStatus', 'initialListStatus','applicationType', 'purpose', 'regionCode'], drop_first = True)"
   ]
  },
  {
   "cell_type": "markdown",
   "metadata": {},
   "source": [
    "这里drop_first = True，去掉了第一个类别，为什么？\n",
    "\n",
    "找到的一个讨论：[When should we drop_first in get_dummies?](https://www.kaggle.com/c/instant-gratification/discussion/92817)"
   ]
  },
  {
   "cell_type": "code",
   "execution_count": 62,
   "metadata": {},
   "outputs": [
    {
     "data": {
      "text/html": [
       "<div>\n",
       "<style scoped>\n",
       "    .dataframe tbody tr th:only-of-type {\n",
       "        vertical-align: middle;\n",
       "    }\n",
       "\n",
       "    .dataframe tbody tr th {\n",
       "        vertical-align: top;\n",
       "    }\n",
       "\n",
       "    .dataframe thead th {\n",
       "        text-align: right;\n",
       "    }\n",
       "</style>\n",
       "<table border=\"1\" class=\"dataframe\">\n",
       "  <thead>\n",
       "    <tr style=\"text-align: right;\">\n",
       "      <th></th>\n",
       "      <th>id</th>\n",
       "      <th>loanAmnt</th>\n",
       "      <th>term</th>\n",
       "      <th>interestRate</th>\n",
       "      <th>installment</th>\n",
       "      <th>grade</th>\n",
       "      <th>subGrade</th>\n",
       "      <th>employmentTitle</th>\n",
       "      <th>employmentLength</th>\n",
       "      <th>homeOwnership</th>\n",
       "      <th>...</th>\n",
       "      <th>regionCode_41</th>\n",
       "      <th>regionCode_42</th>\n",
       "      <th>regionCode_43</th>\n",
       "      <th>regionCode_44</th>\n",
       "      <th>regionCode_45</th>\n",
       "      <th>regionCode_46</th>\n",
       "      <th>regionCode_47</th>\n",
       "      <th>regionCode_48</th>\n",
       "      <th>regionCode_49</th>\n",
       "      <th>regionCode_50</th>\n",
       "    </tr>\n",
       "  </thead>\n",
       "  <tbody>\n",
       "    <tr>\n",
       "      <th>0</th>\n",
       "      <td>0</td>\n",
       "      <td>35000.0</td>\n",
       "      <td>5</td>\n",
       "      <td>19.52</td>\n",
       "      <td>917.97</td>\n",
       "      <td>4.0</td>\n",
       "      <td>21.0</td>\n",
       "      <td>192025</td>\n",
       "      <td>2</td>\n",
       "      <td>2</td>\n",
       "      <td>...</td>\n",
       "      <td>0</td>\n",
       "      <td>0</td>\n",
       "      <td>0</td>\n",
       "      <td>0</td>\n",
       "      <td>0</td>\n",
       "      <td>0</td>\n",
       "      <td>0</td>\n",
       "      <td>0</td>\n",
       "      <td>0</td>\n",
       "      <td>0</td>\n",
       "    </tr>\n",
       "    <tr>\n",
       "      <th>1</th>\n",
       "      <td>1</td>\n",
       "      <td>18000.0</td>\n",
       "      <td>5</td>\n",
       "      <td>18.49</td>\n",
       "      <td>461.90</td>\n",
       "      <td>3.0</td>\n",
       "      <td>16.0</td>\n",
       "      <td>104733</td>\n",
       "      <td>5</td>\n",
       "      <td>0</td>\n",
       "      <td>...</td>\n",
       "      <td>0</td>\n",
       "      <td>0</td>\n",
       "      <td>0</td>\n",
       "      <td>0</td>\n",
       "      <td>0</td>\n",
       "      <td>0</td>\n",
       "      <td>0</td>\n",
       "      <td>0</td>\n",
       "      <td>0</td>\n",
       "      <td>0</td>\n",
       "    </tr>\n",
       "    <tr>\n",
       "      <th>2</th>\n",
       "      <td>2</td>\n",
       "      <td>12000.0</td>\n",
       "      <td>5</td>\n",
       "      <td>16.99</td>\n",
       "      <td>298.17</td>\n",
       "      <td>3.0</td>\n",
       "      <td>17.0</td>\n",
       "      <td>189509</td>\n",
       "      <td>8</td>\n",
       "      <td>0</td>\n",
       "      <td>...</td>\n",
       "      <td>0</td>\n",
       "      <td>0</td>\n",
       "      <td>0</td>\n",
       "      <td>0</td>\n",
       "      <td>0</td>\n",
       "      <td>0</td>\n",
       "      <td>0</td>\n",
       "      <td>0</td>\n",
       "      <td>0</td>\n",
       "      <td>0</td>\n",
       "    </tr>\n",
       "    <tr>\n",
       "      <th>3</th>\n",
       "      <td>3</td>\n",
       "      <td>11000.0</td>\n",
       "      <td>3</td>\n",
       "      <td>7.26</td>\n",
       "      <td>340.96</td>\n",
       "      <td>0.0</td>\n",
       "      <td>3.0</td>\n",
       "      <td>249631</td>\n",
       "      <td>10</td>\n",
       "      <td>1</td>\n",
       "      <td>...</td>\n",
       "      <td>0</td>\n",
       "      <td>0</td>\n",
       "      <td>0</td>\n",
       "      <td>0</td>\n",
       "      <td>0</td>\n",
       "      <td>0</td>\n",
       "      <td>0</td>\n",
       "      <td>0</td>\n",
       "      <td>0</td>\n",
       "      <td>0</td>\n",
       "    </tr>\n",
       "    <tr>\n",
       "      <th>4</th>\n",
       "      <td>4</td>\n",
       "      <td>3000.0</td>\n",
       "      <td>3</td>\n",
       "      <td>12.99</td>\n",
       "      <td>101.07</td>\n",
       "      <td>2.0</td>\n",
       "      <td>11.0</td>\n",
       "      <td>256267</td>\n",
       "      <td>-1</td>\n",
       "      <td>1</td>\n",
       "      <td>...</td>\n",
       "      <td>0</td>\n",
       "      <td>0</td>\n",
       "      <td>0</td>\n",
       "      <td>0</td>\n",
       "      <td>0</td>\n",
       "      <td>0</td>\n",
       "      <td>0</td>\n",
       "      <td>0</td>\n",
       "      <td>0</td>\n",
       "      <td>0</td>\n",
       "    </tr>\n",
       "  </tbody>\n",
       "</table>\n",
       "<p>5 rows × 107 columns</p>\n",
       "</div>"
      ],
      "text/plain": [
       "   id  loanAmnt  term  interestRate  installment  grade  subGrade  \\\n",
       "0   0   35000.0     5         19.52       917.97    4.0      21.0   \n",
       "1   1   18000.0     5         18.49       461.90    3.0      16.0   \n",
       "2   2   12000.0     5         16.99       298.17    3.0      17.0   \n",
       "3   3   11000.0     3          7.26       340.96    0.0       3.0   \n",
       "4   4    3000.0     3         12.99       101.07    2.0      11.0   \n",
       "\n",
       "   employmentTitle  employmentLength  homeOwnership  ...  regionCode_41  \\\n",
       "0           192025                 2              2  ...              0   \n",
       "1           104733                 5              0  ...              0   \n",
       "2           189509                 8              0  ...              0   \n",
       "3           249631                10              1  ...              0   \n",
       "4           256267                -1              1  ...              0   \n",
       "\n",
       "   regionCode_42  regionCode_43  regionCode_44  regionCode_45  regionCode_46  \\\n",
       "0              0              0              0              0              0   \n",
       "1              0              0              0              0              0   \n",
       "2              0              0              0              0              0   \n",
       "3              0              0              0              0              0   \n",
       "4              0              0              0              0              0   \n",
       "\n",
       "   regionCode_47  regionCode_48  regionCode_49  regionCode_50  \n",
       "0              0              0              0              0  \n",
       "1              0              0              0              0  \n",
       "2              0              0              0              0  \n",
       "3              0              0              0              0  \n",
       "4              0              0              0              0  \n",
       "\n",
       "[5 rows x 107 columns]"
      ]
     },
     "execution_count": 62,
     "metadata": {},
     "output_type": "execute_result"
    }
   ],
   "source": [
    "data_train_1.head()"
   ]
  },
  {
   "cell_type": "code",
   "execution_count": 63,
   "metadata": {},
   "outputs": [],
   "source": [
    "#features = [f for f in data.columns if f not in ['id','isDefault']]\n",
    "\n",
    "#data_train_2 = data[data.isDefault.notnull()].reset_index(drop=True)\n",
    "#data_test_a_2 = data[data.isDefault.isnull()].reset_index(drop=True)"
   ]
  },
  {
   "cell_type": "markdown",
   "metadata": {},
   "source": [
    "### 6.异常值处理\n",
    "\n",
    ">现实数据总会有一些异常值，我们需要把它们捕捉出来，然后观察它们的性质。但并不是要排除所有异常值，相反有时候异常值也是重点研究对象。处理异常值可以用**箱线法，或者$3\\sigma$法则**。在银行数据中，我们希望排除的“异常值”可能不是一些超高或超低的数字，而是一些不合理的数字，如loanAmnt-贷款金额可以很高，但不能为负数。\n",
    "\n",
    "暂时没有进行异常值处理。"
   ]
  },
  {
   "cell_type": "code",
   "execution_count": 64,
   "metadata": {},
   "outputs": [
    {
     "data": {
      "text/html": [
       "<div>\n",
       "<style scoped>\n",
       "    .dataframe tbody tr th:only-of-type {\n",
       "        vertical-align: middle;\n",
       "    }\n",
       "\n",
       "    .dataframe tbody tr th {\n",
       "        vertical-align: top;\n",
       "    }\n",
       "\n",
       "    .dataframe thead th {\n",
       "        text-align: right;\n",
       "    }\n",
       "</style>\n",
       "<table border=\"1\" class=\"dataframe\">\n",
       "  <thead>\n",
       "    <tr style=\"text-align: right;\">\n",
       "      <th></th>\n",
       "      <th>id</th>\n",
       "      <th>loanAmnt</th>\n",
       "      <th>term</th>\n",
       "      <th>interestRate</th>\n",
       "      <th>installment</th>\n",
       "      <th>grade</th>\n",
       "      <th>subGrade</th>\n",
       "      <th>employmentTitle</th>\n",
       "      <th>employmentLength</th>\n",
       "      <th>homeOwnership</th>\n",
       "      <th>...</th>\n",
       "      <th>regionCode_41</th>\n",
       "      <th>regionCode_42</th>\n",
       "      <th>regionCode_43</th>\n",
       "      <th>regionCode_44</th>\n",
       "      <th>regionCode_45</th>\n",
       "      <th>regionCode_46</th>\n",
       "      <th>regionCode_47</th>\n",
       "      <th>regionCode_48</th>\n",
       "      <th>regionCode_49</th>\n",
       "      <th>regionCode_50</th>\n",
       "    </tr>\n",
       "  </thead>\n",
       "  <tbody>\n",
       "    <tr>\n",
       "      <th>count</th>\n",
       "      <td>800000.000000</td>\n",
       "      <td>800000.000000</td>\n",
       "      <td>800000.000000</td>\n",
       "      <td>800000.000000</td>\n",
       "      <td>800000.000000</td>\n",
       "      <td>800000.000000</td>\n",
       "      <td>800000.000000</td>\n",
       "      <td>800000.000000</td>\n",
       "      <td>800000.000000</td>\n",
       "      <td>800000.000000</td>\n",
       "      <td>...</td>\n",
       "      <td>800000.000000</td>\n",
       "      <td>800000.000000</td>\n",
       "      <td>800000.000000</td>\n",
       "      <td>800000.000000</td>\n",
       "      <td>800000.000000</td>\n",
       "      <td>800000.000000</td>\n",
       "      <td>800000.000000</td>\n",
       "      <td>800000.00000</td>\n",
       "      <td>800000.000000</td>\n",
       "      <td>800000.000000</td>\n",
       "    </tr>\n",
       "    <tr>\n",
       "      <th>mean</th>\n",
       "      <td>399999.500000</td>\n",
       "      <td>14416.818875</td>\n",
       "      <td>3.482745</td>\n",
       "      <td>13.238391</td>\n",
       "      <td>437.947723</td>\n",
       "      <td>1.745472</td>\n",
       "      <td>10.691510</td>\n",
       "      <td>164744.594133</td>\n",
       "      <td>5.557749</td>\n",
       "      <td>0.614213</td>\n",
       "      <td>...</td>\n",
       "      <td>0.002223</td>\n",
       "      <td>0.009084</td>\n",
       "      <td>0.009626</td>\n",
       "      <td>0.004954</td>\n",
       "      <td>0.007415</td>\n",
       "      <td>0.001191</td>\n",
       "      <td>0.001516</td>\n",
       "      <td>0.00235</td>\n",
       "      <td>0.001251</td>\n",
       "      <td>0.000008</td>\n",
       "    </tr>\n",
       "    <tr>\n",
       "      <th>std</th>\n",
       "      <td>230940.252013</td>\n",
       "      <td>8716.086178</td>\n",
       "      <td>0.855832</td>\n",
       "      <td>4.765757</td>\n",
       "      <td>261.460393</td>\n",
       "      <td>1.294173</td>\n",
       "      <td>6.446515</td>\n",
       "      <td>93876.984767</td>\n",
       "      <td>3.936252</td>\n",
       "      <td>0.675749</td>\n",
       "      <td>...</td>\n",
       "      <td>0.047091</td>\n",
       "      <td>0.094875</td>\n",
       "      <td>0.097640</td>\n",
       "      <td>0.070208</td>\n",
       "      <td>0.085791</td>\n",
       "      <td>0.034494</td>\n",
       "      <td>0.038910</td>\n",
       "      <td>0.04842</td>\n",
       "      <td>0.035351</td>\n",
       "      <td>0.002739</td>\n",
       "    </tr>\n",
       "    <tr>\n",
       "      <th>min</th>\n",
       "      <td>0.000000</td>\n",
       "      <td>500.000000</td>\n",
       "      <td>3.000000</td>\n",
       "      <td>5.310000</td>\n",
       "      <td>15.690000</td>\n",
       "      <td>0.000000</td>\n",
       "      <td>0.000000</td>\n",
       "      <td>0.000000</td>\n",
       "      <td>-1.000000</td>\n",
       "      <td>0.000000</td>\n",
       "      <td>...</td>\n",
       "      <td>0.000000</td>\n",
       "      <td>0.000000</td>\n",
       "      <td>0.000000</td>\n",
       "      <td>0.000000</td>\n",
       "      <td>0.000000</td>\n",
       "      <td>0.000000</td>\n",
       "      <td>0.000000</td>\n",
       "      <td>0.00000</td>\n",
       "      <td>0.000000</td>\n",
       "      <td>0.000000</td>\n",
       "    </tr>\n",
       "    <tr>\n",
       "      <th>1%</th>\n",
       "      <td>7999.990000</td>\n",
       "      <td>1500.000000</td>\n",
       "      <td>3.000000</td>\n",
       "      <td>5.320000</td>\n",
       "      <td>53.150000</td>\n",
       "      <td>0.000000</td>\n",
       "      <td>0.000000</td>\n",
       "      <td>2092.000000</td>\n",
       "      <td>-1.000000</td>\n",
       "      <td>0.000000</td>\n",
       "      <td>...</td>\n",
       "      <td>0.000000</td>\n",
       "      <td>0.000000</td>\n",
       "      <td>0.000000</td>\n",
       "      <td>0.000000</td>\n",
       "      <td>0.000000</td>\n",
       "      <td>0.000000</td>\n",
       "      <td>0.000000</td>\n",
       "      <td>0.00000</td>\n",
       "      <td>0.000000</td>\n",
       "      <td>0.000000</td>\n",
       "    </tr>\n",
       "    <tr>\n",
       "      <th>10%</th>\n",
       "      <td>79999.900000</td>\n",
       "      <td>5000.000000</td>\n",
       "      <td>3.000000</td>\n",
       "      <td>7.390000</td>\n",
       "      <td>157.590000</td>\n",
       "      <td>0.000000</td>\n",
       "      <td>3.000000</td>\n",
       "      <td>29099.000000</td>\n",
       "      <td>0.000000</td>\n",
       "      <td>0.000000</td>\n",
       "      <td>...</td>\n",
       "      <td>0.000000</td>\n",
       "      <td>0.000000</td>\n",
       "      <td>0.000000</td>\n",
       "      <td>0.000000</td>\n",
       "      <td>0.000000</td>\n",
       "      <td>0.000000</td>\n",
       "      <td>0.000000</td>\n",
       "      <td>0.00000</td>\n",
       "      <td>0.000000</td>\n",
       "      <td>0.000000</td>\n",
       "    </tr>\n",
       "    <tr>\n",
       "      <th>25%</th>\n",
       "      <td>199999.750000</td>\n",
       "      <td>8000.000000</td>\n",
       "      <td>3.000000</td>\n",
       "      <td>9.750000</td>\n",
       "      <td>248.450000</td>\n",
       "      <td>1.000000</td>\n",
       "      <td>6.000000</td>\n",
       "      <td>77517.000000</td>\n",
       "      <td>2.000000</td>\n",
       "      <td>0.000000</td>\n",
       "      <td>...</td>\n",
       "      <td>0.000000</td>\n",
       "      <td>0.000000</td>\n",
       "      <td>0.000000</td>\n",
       "      <td>0.000000</td>\n",
       "      <td>0.000000</td>\n",
       "      <td>0.000000</td>\n",
       "      <td>0.000000</td>\n",
       "      <td>0.00000</td>\n",
       "      <td>0.000000</td>\n",
       "      <td>0.000000</td>\n",
       "    </tr>\n",
       "    <tr>\n",
       "      <th>50%</th>\n",
       "      <td>399999.500000</td>\n",
       "      <td>12000.000000</td>\n",
       "      <td>3.000000</td>\n",
       "      <td>12.740000</td>\n",
       "      <td>375.135000</td>\n",
       "      <td>2.000000</td>\n",
       "      <td>10.000000</td>\n",
       "      <td>178975.500000</td>\n",
       "      <td>6.000000</td>\n",
       "      <td>1.000000</td>\n",
       "      <td>...</td>\n",
       "      <td>0.000000</td>\n",
       "      <td>0.000000</td>\n",
       "      <td>0.000000</td>\n",
       "      <td>0.000000</td>\n",
       "      <td>0.000000</td>\n",
       "      <td>0.000000</td>\n",
       "      <td>0.000000</td>\n",
       "      <td>0.00000</td>\n",
       "      <td>0.000000</td>\n",
       "      <td>0.000000</td>\n",
       "    </tr>\n",
       "    <tr>\n",
       "      <th>75%</th>\n",
       "      <td>599999.250000</td>\n",
       "      <td>20000.000000</td>\n",
       "      <td>3.000000</td>\n",
       "      <td>15.990000</td>\n",
       "      <td>580.710000</td>\n",
       "      <td>2.000000</td>\n",
       "      <td>14.000000</td>\n",
       "      <td>256267.000000</td>\n",
       "      <td>10.000000</td>\n",
       "      <td>1.000000</td>\n",
       "      <td>...</td>\n",
       "      <td>0.000000</td>\n",
       "      <td>0.000000</td>\n",
       "      <td>0.000000</td>\n",
       "      <td>0.000000</td>\n",
       "      <td>0.000000</td>\n",
       "      <td>0.000000</td>\n",
       "      <td>0.000000</td>\n",
       "      <td>0.00000</td>\n",
       "      <td>0.000000</td>\n",
       "      <td>0.000000</td>\n",
       "    </tr>\n",
       "    <tr>\n",
       "      <th>90%</th>\n",
       "      <td>719999.100000</td>\n",
       "      <td>28000.000000</td>\n",
       "      <td>5.000000</td>\n",
       "      <td>19.480000</td>\n",
       "      <td>807.300000</td>\n",
       "      <td>4.000000</td>\n",
       "      <td>20.000000</td>\n",
       "      <td>274105.000000</td>\n",
       "      <td>10.000000</td>\n",
       "      <td>2.000000</td>\n",
       "      <td>...</td>\n",
       "      <td>0.000000</td>\n",
       "      <td>0.000000</td>\n",
       "      <td>0.000000</td>\n",
       "      <td>0.000000</td>\n",
       "      <td>0.000000</td>\n",
       "      <td>0.000000</td>\n",
       "      <td>0.000000</td>\n",
       "      <td>0.00000</td>\n",
       "      <td>0.000000</td>\n",
       "      <td>0.000000</td>\n",
       "    </tr>\n",
       "    <tr>\n",
       "      <th>99%</th>\n",
       "      <td>791999.010000</td>\n",
       "      <td>35000.000000</td>\n",
       "      <td>5.000000</td>\n",
       "      <td>26.300000</td>\n",
       "      <td>1220.330000</td>\n",
       "      <td>5.000000</td>\n",
       "      <td>28.000000</td>\n",
       "      <td>295426.000000</td>\n",
       "      <td>10.000000</td>\n",
       "      <td>2.000000</td>\n",
       "      <td>...</td>\n",
       "      <td>0.000000</td>\n",
       "      <td>0.000000</td>\n",
       "      <td>0.000000</td>\n",
       "      <td>0.000000</td>\n",
       "      <td>0.000000</td>\n",
       "      <td>0.000000</td>\n",
       "      <td>0.000000</td>\n",
       "      <td>0.00000</td>\n",
       "      <td>0.000000</td>\n",
       "      <td>0.000000</td>\n",
       "    </tr>\n",
       "    <tr>\n",
       "      <th>max</th>\n",
       "      <td>799999.000000</td>\n",
       "      <td>40000.000000</td>\n",
       "      <td>5.000000</td>\n",
       "      <td>30.990000</td>\n",
       "      <td>1715.420000</td>\n",
       "      <td>6.000000</td>\n",
       "      <td>34.000000</td>\n",
       "      <td>298100.000000</td>\n",
       "      <td>10.000000</td>\n",
       "      <td>5.000000</td>\n",
       "      <td>...</td>\n",
       "      <td>1.000000</td>\n",
       "      <td>1.000000</td>\n",
       "      <td>1.000000</td>\n",
       "      <td>1.000000</td>\n",
       "      <td>1.000000</td>\n",
       "      <td>1.000000</td>\n",
       "      <td>1.000000</td>\n",
       "      <td>1.00000</td>\n",
       "      <td>1.000000</td>\n",
       "      <td>1.000000</td>\n",
       "    </tr>\n",
       "  </tbody>\n",
       "</table>\n",
       "<p>12 rows × 107 columns</p>\n",
       "</div>"
      ],
      "text/plain": [
       "                  id       loanAmnt           term   interestRate  \\\n",
       "count  800000.000000  800000.000000  800000.000000  800000.000000   \n",
       "mean   399999.500000   14416.818875       3.482745      13.238391   \n",
       "std    230940.252013    8716.086178       0.855832       4.765757   \n",
       "min         0.000000     500.000000       3.000000       5.310000   \n",
       "1%       7999.990000    1500.000000       3.000000       5.320000   \n",
       "10%     79999.900000    5000.000000       3.000000       7.390000   \n",
       "25%    199999.750000    8000.000000       3.000000       9.750000   \n",
       "50%    399999.500000   12000.000000       3.000000      12.740000   \n",
       "75%    599999.250000   20000.000000       3.000000      15.990000   \n",
       "90%    719999.100000   28000.000000       5.000000      19.480000   \n",
       "99%    791999.010000   35000.000000       5.000000      26.300000   \n",
       "max    799999.000000   40000.000000       5.000000      30.990000   \n",
       "\n",
       "         installment          grade       subGrade  employmentTitle  \\\n",
       "count  800000.000000  800000.000000  800000.000000    800000.000000   \n",
       "mean      437.947723       1.745472      10.691510    164744.594133   \n",
       "std       261.460393       1.294173       6.446515     93876.984767   \n",
       "min        15.690000       0.000000       0.000000         0.000000   \n",
       "1%         53.150000       0.000000       0.000000      2092.000000   \n",
       "10%       157.590000       0.000000       3.000000     29099.000000   \n",
       "25%       248.450000       1.000000       6.000000     77517.000000   \n",
       "50%       375.135000       2.000000      10.000000    178975.500000   \n",
       "75%       580.710000       2.000000      14.000000    256267.000000   \n",
       "90%       807.300000       4.000000      20.000000    274105.000000   \n",
       "99%      1220.330000       5.000000      28.000000    295426.000000   \n",
       "max      1715.420000       6.000000      34.000000    298100.000000   \n",
       "\n",
       "       employmentLength  homeOwnership  ...  regionCode_41  regionCode_42  \\\n",
       "count     800000.000000  800000.000000  ...  800000.000000  800000.000000   \n",
       "mean           5.557749       0.614213  ...       0.002223       0.009084   \n",
       "std            3.936252       0.675749  ...       0.047091       0.094875   \n",
       "min           -1.000000       0.000000  ...       0.000000       0.000000   \n",
       "1%            -1.000000       0.000000  ...       0.000000       0.000000   \n",
       "10%            0.000000       0.000000  ...       0.000000       0.000000   \n",
       "25%            2.000000       0.000000  ...       0.000000       0.000000   \n",
       "50%            6.000000       1.000000  ...       0.000000       0.000000   \n",
       "75%           10.000000       1.000000  ...       0.000000       0.000000   \n",
       "90%           10.000000       2.000000  ...       0.000000       0.000000   \n",
       "99%           10.000000       2.000000  ...       0.000000       0.000000   \n",
       "max           10.000000       5.000000  ...       1.000000       1.000000   \n",
       "\n",
       "       regionCode_43  regionCode_44  regionCode_45  regionCode_46  \\\n",
       "count  800000.000000  800000.000000  800000.000000  800000.000000   \n",
       "mean        0.009626       0.004954       0.007415       0.001191   \n",
       "std         0.097640       0.070208       0.085791       0.034494   \n",
       "min         0.000000       0.000000       0.000000       0.000000   \n",
       "1%          0.000000       0.000000       0.000000       0.000000   \n",
       "10%         0.000000       0.000000       0.000000       0.000000   \n",
       "25%         0.000000       0.000000       0.000000       0.000000   \n",
       "50%         0.000000       0.000000       0.000000       0.000000   \n",
       "75%         0.000000       0.000000       0.000000       0.000000   \n",
       "90%         0.000000       0.000000       0.000000       0.000000   \n",
       "99%         0.000000       0.000000       0.000000       0.000000   \n",
       "max         1.000000       1.000000       1.000000       1.000000   \n",
       "\n",
       "       regionCode_47  regionCode_48  regionCode_49  regionCode_50  \n",
       "count  800000.000000   800000.00000  800000.000000  800000.000000  \n",
       "mean        0.001516        0.00235       0.001251       0.000008  \n",
       "std         0.038910        0.04842       0.035351       0.002739  \n",
       "min         0.000000        0.00000       0.000000       0.000000  \n",
       "1%          0.000000        0.00000       0.000000       0.000000  \n",
       "10%         0.000000        0.00000       0.000000       0.000000  \n",
       "25%         0.000000        0.00000       0.000000       0.000000  \n",
       "50%         0.000000        0.00000       0.000000       0.000000  \n",
       "75%         0.000000        0.00000       0.000000       0.000000  \n",
       "90%         0.000000        0.00000       0.000000       0.000000  \n",
       "99%         0.000000        0.00000       0.000000       0.000000  \n",
       "max         1.000000        1.00000       1.000000       1.000000  \n",
       "\n",
       "[12 rows x 107 columns]"
      ]
     },
     "execution_count": 64,
     "metadata": {},
     "output_type": "execute_result"
    }
   ],
   "source": [
    "#描述性统计\n",
    "data_train_1.describe([0.01, 0.1, 0.25, 0.5, 0.75, 0.9, 0.99])"
   ]
  },
  {
   "cell_type": "markdown",
   "metadata": {},
   "source": [
    "### 7.待学习的方法\n",
    "\n",
    "* 数据分桶\n",
    "* 特征交互\n",
    "* 特征选择\n",
    "* 特征创造"
   ]
  },
  {
   "cell_type": "markdown",
   "metadata": {},
   "source": [
    "### Task3小结\n",
    "\n",
    "* 按照教程的方法进行了基本的特征工程\n",
    "* 需要做进一步尝试：\n",
    "    1. grade, subGrade，尝试只保留subGrade？\n",
    "    2. 与时间有关的特征如何进一步处理，issueDateDT，employmentLength，earliesCreditLine\n",
    "    3. 数值跨域大的特征进行分箱\n",
    "    4. 特征选择与特征创造\n",
    "    \n",
    "***********************************"
   ]
  },
  {
   "cell_type": "code",
   "execution_count": 65,
   "metadata": {},
   "outputs": [],
   "source": [
    "#保存处理好的数据\n",
    "data_train_1.to_csv('data_train_for_model.csv')"
   ]
  },
  {
   "cell_type": "code",
   "execution_count": 65,
   "metadata": {},
   "outputs": [],
   "source": [
    "data_test_a_1.to_csv('data_test_for_model.csv')"
   ]
  },
  {
   "cell_type": "code",
   "execution_count": 66,
   "metadata": {},
   "outputs": [],
   "source": [
    "#reduce_mem_usage 函数通过调整数据类型，帮助我们减少数据在内存中占用的空间\n",
    "def reduce_mem_usage(df):\n",
    "    start_mem = df.memory_usage().sum() \n",
    "    print('Memory usage of dataframe is {:.2f} MB'.format(start_mem))\n",
    "    \n",
    "    for col in df.columns:\n",
    "        col_type = df[col].dtype\n",
    "        \n",
    "        if col_type != object:\n",
    "            c_min = df[col].min()\n",
    "            c_max = df[col].max()\n",
    "            if str(col_type)[:3] == 'int':\n",
    "                if c_min > np.iinfo(np.int8).min and c_max < np.iinfo(np.int8).max:\n",
    "                    df[col] = df[col].astype(np.int8)\n",
    "                elif c_min > np.iinfo(np.int16).min and c_max < np.iinfo(np.int16).max:\n",
    "                    df[col] = df[col].astype(np.int16)\n",
    "                elif c_min > np.iinfo(np.int32).min and c_max < np.iinfo(np.int32).max:\n",
    "                    df[col] = df[col].astype(np.int32)\n",
    "                elif c_min > np.iinfo(np.int64).min and c_max < np.iinfo(np.int64).max:\n",
    "                    df[col] = df[col].astype(np.int64)  \n",
    "            else:\n",
    "                if c_min > np.finfo(np.float16).min and c_max < np.finfo(np.float16).max:\n",
    "                    df[col] = df[col].astype(np.float16)\n",
    "                elif c_min > np.finfo(np.float32).min and c_max < np.finfo(np.float32).max:\n",
    "                    df[col] = df[col].astype(np.float32)\n",
    "                else:\n",
    "                    df[col] = df[col].astype(np.float64)\n",
    "        else:\n",
    "            df[col] = df[col].astype('category')\n",
    "\n",
    "    end_mem = df.memory_usage().sum() \n",
    "    print('Memory usage after optimization is: {:.2f} MB'.format(end_mem))\n",
    "    print('Decreased by {:.1f}%'.format(100 * (start_mem - end_mem) / start_mem))\n",
    "    \n",
    "    return df"
   ]
  },
  {
   "cell_type": "code",
   "execution_count": 67,
   "metadata": {},
   "outputs": [
    {
     "name": "stdout",
     "output_type": "stream",
     "text": [
      "Memory usage of dataframe is 691200128.00 MB\n",
      "Memory usage after optimization is: 125600128.00 MB\n",
      "Decreased by 81.8%\n",
      "Memory usage of dataframe is 171200128.00 MB\n",
      "Memory usage after optimization is: 31200128.00 MB\n",
      "Decreased by 81.8%\n"
     ]
    }
   ],
   "source": [
    "#训练数据/测试数据准备\n",
    "\n",
    "data_train = pd.read_csv('data_train_for_model.csv')\n",
    "data_train = reduce_mem_usage(data_train)\n",
    "\n",
    "data_test = pd.read_csv('data_test_for_model.csv')\n",
    "data_test = reduce_mem_usage(data_test)"
   ]
  },
  {
   "cell_type": "code",
   "execution_count": 68,
   "metadata": {},
   "outputs": [],
   "source": [
    "features = [f for f in data_train.columns if f not in ['id','isDefault']]\n",
    "\n",
    "x_train = data_train[features]\n",
    "x_test = data_test[features]\n",
    "\n",
    "y_train = data_train['isDefault']"
   ]
  },
  {
   "cell_type": "code",
   "execution_count": 69,
   "metadata": {},
   "outputs": [],
   "source": [
    "# 5折交叉验证\n",
    "\n",
    "folds = 5\n",
    "seed = 2020\n",
    "kf = KFold(n_splits=folds, shuffle=True, random_state=seed)"
   ]
  },
  {
   "cell_type": "code",
   "execution_count": 72,
   "metadata": {},
   "outputs": [
    {
     "name": "stdout",
     "output_type": "stream",
     "text": [
      "************************************ 1 ************************************\n",
      "[0]\ttrain-auc:0.697491\teval-auc:0.69737\n",
      "Multiple eval metrics have been passed: 'eval-auc' will be used for early stopping.\n",
      "\n",
      "Will train until eval-auc hasn't improved in 200 rounds.\n",
      "[200]\ttrain-auc:0.732393\teval-auc:0.730048\n",
      "[400]\ttrain-auc:0.739699\teval-auc:0.733595\n",
      "[600]\ttrain-auc:0.744892\teval-auc:0.735325\n",
      "[800]\ttrain-auc:0.748952\teval-auc:0.736265\n",
      "[1000]\ttrain-auc:0.752616\teval-auc:0.736874\n",
      "[1200]\ttrain-auc:0.755979\teval-auc:0.737332\n",
      "[1400]\ttrain-auc:0.759018\teval-auc:0.737645\n",
      "[1600]\ttrain-auc:0.761998\teval-auc:0.737832\n",
      "[1800]\ttrain-auc:0.765064\teval-auc:0.738043\n",
      "[2000]\ttrain-auc:0.767845\teval-auc:0.738175\n",
      "[2200]\ttrain-auc:0.770536\teval-auc:0.73833\n",
      "[2400]\ttrain-auc:0.773137\teval-auc:0.738376\n",
      "[2600]\ttrain-auc:0.775613\teval-auc:0.738437\n",
      "[2800]\ttrain-auc:0.778074\teval-auc:0.738441\n",
      "[3000]\ttrain-auc:0.780598\teval-auc:0.738502\n",
      "Stopping. Best iteration:\n",
      "[2967]\ttrain-auc:0.780189\teval-auc:0.738507\n",
      "\n"
     ]
    },
    {
     "ename": "NameError",
     "evalue": "name 'val_y' is not defined",
     "output_type": "error",
     "traceback": [
      "\u001b[1;31m---------------------------------------------------------------------------\u001b[0m",
      "\u001b[1;31mNameError\u001b[0m                                 Traceback (most recent call last)",
      "\u001b[1;32m<ipython-input-72-4aa5237530ac>\u001b[0m in \u001b[0;36m<module>\u001b[1;34m\u001b[0m\n\u001b[0;32m     40\u001b[0m     \u001b[1;31m#train[valid_index] = val_pred\u001b[0m\u001b[1;33m\u001b[0m\u001b[1;33m\u001b[0m\u001b[1;33m\u001b[0m\u001b[0m\n\u001b[0;32m     41\u001b[0m     \u001b[1;31m#test = test_pred / kf.n_splits\u001b[0m\u001b[1;33m\u001b[0m\u001b[1;33m\u001b[0m\u001b[1;33m\u001b[0m\u001b[0m\n\u001b[1;32m---> 42\u001b[1;33m     \u001b[0mcv_scores\u001b[0m\u001b[1;33m.\u001b[0m\u001b[0mappend\u001b[0m\u001b[1;33m(\u001b[0m\u001b[0mroc_auc_score\u001b[0m\u001b[1;33m(\u001b[0m\u001b[0mval_y\u001b[0m\u001b[1;33m,\u001b[0m \u001b[0mval_pred\u001b[0m\u001b[1;33m)\u001b[0m\u001b[1;33m)\u001b[0m\u001b[1;33m\u001b[0m\u001b[1;33m\u001b[0m\u001b[0m\n\u001b[0m\u001b[0;32m     43\u001b[0m     \u001b[0mprint\u001b[0m\u001b[1;33m(\u001b[0m\u001b[0mcv_scores\u001b[0m\u001b[1;33m)\u001b[0m\u001b[1;33m\u001b[0m\u001b[1;33m\u001b[0m\u001b[0m\n\u001b[0;32m     44\u001b[0m \u001b[1;33m\u001b[0m\u001b[0m\n",
      "\u001b[1;31mNameError\u001b[0m: name 'val_y' is not defined"
     ]
    }
   ],
   "source": [
    "#模型训练\n",
    "\n",
    "from sklearn.model_selection import cross_val_score as CVS, train_test_split as TTS\n",
    "\n",
    "cv_scores = []\n",
    "for i, (train_index, valid_index) in enumerate(kf.split(x_train, y_train)):\n",
    "    print('************************************ {} ************************************'.format(str(i+1)))\n",
    "    X_train_split, y_train_split, X_val, y_val = x_train.iloc[train_index], y_train[train_index], x_train.iloc[valid_index], y_train[valid_index]\n",
    "    \n",
    "    train_matrix = xgb.DMatrix(X_train_split, label=y_train_split)\n",
    "    valid_matrix = xgb.DMatrix(X_val, label=y_val)\n",
    "    test_matrix = xgb.DMatrix(x_test)\n",
    "\n",
    "    params = {'booster': 'gbtree',\n",
    "              'objective': 'binary:logistic',\n",
    "              'eval_metric': 'auc',\n",
    "              'gamma': 1,\n",
    "              'min_child_weight': 1.5,\n",
    "              'max_depth': 5,\n",
    "              'lambda': 10,\n",
    "              'subsample': 0.7,\n",
    "              'colsample_bytree': 0.7,\n",
    "              'colsample_bylevel': 0.7,\n",
    "              'eta': 0.04,\n",
    "              'tree_method': 'exact',     # ?\n",
    "              'seed': 2020,\n",
    "              'nthread': -1,\n",
    "              \"silent\": True,\n",
    "              }\n",
    "    watchlist = [(train_matrix, 'train'),(valid_matrix, 'eval')]\n",
    "    \n",
    "    model = xgb.train(params, train_matrix, \n",
    "                      num_boost_round=4000, \n",
    "                      evals=watchlist, \n",
    "                      verbose_eval=200,    # ?\n",
    "                      early_stopping_rounds=200)\n",
    "    val_pred  = model.predict(valid_matrix, ntree_limit=model.best_ntree_limit)\n",
    "    test_pred = model.predict(test_matrix , ntree_limit=model.best_ntree_limit)\n",
    "    \n",
    "    #train[valid_index] = val_pred\n",
    "    #test = test_pred / kf.n_splits\n",
    "    cv_scores.append(roc_auc_score(y_val, val_pred))\n",
    "    print(cv_scores)\n",
    "\n",
    "print(\"xgb_scotrainre_list:{}\".format(cv_scores))\n",
    "print(\"xgb_score_mean:{}\".format(np.mean(cv_scores)))\n",
    "print(\"xgb_score_std:{}\".format(np.std(cv_scores)))"
   ]
  },
  {
   "cell_type": "code",
   "execution_count": 75,
   "metadata": {},
   "outputs": [
    {
     "data": {
      "text/plain": [
       "(200000,)"
      ]
     },
     "execution_count": 75,
     "metadata": {},
     "output_type": "execute_result"
    }
   ],
   "source": [
    "test_pred.shape"
   ]
  },
  {
   "cell_type": "code",
   "execution_count": 76,
   "metadata": {},
   "outputs": [],
   "source": [
    "data_test['isDefault'] = test_pred"
   ]
  },
  {
   "cell_type": "code",
   "execution_count": 77,
   "metadata": {},
   "outputs": [],
   "source": [
    "data_test[['id','isDefault']].to_csv('test_sub.csv', index=False)"
   ]
  },
  {
   "cell_type": "code",
   "execution_count": null,
   "metadata": {},
   "outputs": [],
   "source": []
  },
  {
   "cell_type": "code",
   "execution_count": null,
   "metadata": {},
   "outputs": [],
   "source": []
  }
 ],
 "metadata": {
  "kernelspec": {
   "display_name": "Python [conda env:sklearn]",
   "language": "python",
   "name": "conda-env-sklearn-py"
  },
  "language_info": {
   "codemirror_mode": {
    "name": "ipython",
    "version": 3
   },
   "file_extension": ".py",
   "mimetype": "text/x-python",
   "name": "python",
   "nbconvert_exporter": "python",
   "pygments_lexer": "ipython3",
   "version": "3.7.9"
  }
 },
 "nbformat": 4,
 "nbformat_minor": 4
}
